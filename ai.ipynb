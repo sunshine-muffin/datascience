{
  "nbformat": 4,
  "nbformat_minor": 0,
  "metadata": {
    "colab": {
      "provenance": [],
      "toc_visible": true
    },
    "kernelspec": {
      "name": "python3",
      "display_name": "Python 3"
    },
    "language_info": {
      "name": "python"
    }
  },
  "cells": [
    {
      "cell_type": "markdown",
      "source": [
        "#1\n"
      ],
      "metadata": {
        "id": "CJb7P_Rsof_h"
      }
    },
    {
      "cell_type": "code",
      "execution_count": null,
      "metadata": {
        "colab": {
          "base_uri": "https://localhost:8080/"
        },
        "id": "1OisdARGtTt4",
        "outputId": "7ea07946-2009-4fe9-cc3e-1b18a9430caa"
      },
      "outputs": [
        {
          "output_type": "stream",
          "name": "stdout",
          "text": [
            "The maximum number in the list is: 12\n"
          ]
        }
      ],
      "source": [
        "import random\n",
        "\n",
        "def stochastic_hill_climbing(numbers):\n",
        "    current_index = random.randint(0, len(numbers) - 1)\n",
        "    current_max = numbers[current_index]\n",
        "    iterations = 100  # Limit the number of iterations to avoid infinite loops\n",
        "    for _ in range(iterations):\n",
        "        next_index = random.randint(0, len(numbers) - 1)\n",
        "        if numbers[next_index] > current_max:\n",
        "            current_max = numbers[next_index]\n",
        "    return current_max\n",
        "\n",
        "# Example list of numbers\n",
        "numbers = [1, 3, 7, 12, 9, 5]\n",
        "max_number = stochastic_hill_climbing(numbers)\n",
        "print(f\"The maximum number in the list is: {max_number}\")\n"
      ]
    },
    {
      "cell_type": "code",
      "source": [
        "from queue import PriorityQueue\n",
        "\n",
        "# Creating Base Class\n",
        "class State(object):\n",
        "    def __init__(self, value, parent, start=0, goal=0):\n",
        "        self.children = []\n",
        "        self.parent = parent\n",
        "        self.value = value\n",
        "        self.dist = 0 if parent else 1\n",
        "        self.start = parent.start if parent else start\n",
        "        self.goal = parent.goal if parent else goal\n",
        "        self.path = parent.path[:] if parent else [value]\n",
        "        self.path.append(value)\n",
        "\n",
        "    def GetDistance(self):\n",
        "        pass\n",
        "\n",
        "    def CreateChildren(self):\n",
        "        pass\n",
        "\n",
        "# Creating subclass\n",
        "class State_String(State):\n",
        "    def __init__(self, value, parent, start=0, goal=0):\n",
        "        super(State_String, self).__init__(value, parent, start, goal)\n",
        "        self.dist = self.GetDistance()\n",
        "\n",
        "    def GetDistance(self):\n",
        "        if self.value == self.goal:\n",
        "            return 0\n",
        "        dist = 0\n",
        "        for i in range(len(self.goal)):\n",
        "            letter = self.goal[i]\n",
        "            dist += abs(i - self.value.index(letter))\n",
        "        return dist\n",
        "\n",
        "    def CreateChildren(self):\n",
        "        if not self.children:\n",
        "            for i in range(len(self.goal) - 1):\n",
        "                val = self.value\n",
        "                val = val[:i] + val[i + 1] + val[i] + val[i + 2:]\n",
        "                child = State_String(val, self)\n",
        "                self.children.append(child)\n",
        "\n",
        "# Creating a class that holds the final magic\n",
        "class A_Star_Solver:\n",
        "    def __init__(self, start, goal):\n",
        "        self.path = []\n",
        "        self.visitedQueue = []\n",
        "\n",
        "        self.priorityQueue = PriorityQueue()\n",
        "        self.start = start\n",
        "        self.goal = goal\n",
        "\n",
        "    def Solve(self):\n",
        "        startState = State_String(self.start, 0, self.start, self.goal)\n",
        "        count = 0\n",
        "        self.priorityQueue.put((0, count, startState))\n",
        "        while (not self.path and self.priorityQueue.qsize()):\n",
        "            closestChild = self.priorityQueue.get()[2]\n",
        "            closestChild.CreateChildren()\n",
        "            self.visitedQueue.append(closestChild.value)\n",
        "            for child in closestChild.children:\n",
        "                if child.value not in self.visitedQueue:\n",
        "                    count += 1\n",
        "                    if not child.dist:\n",
        "                        self.path = child.path\n",
        "                        break\n",
        "                    self.priorityQueue.put((child.dist, count, child))\n",
        "        if not self.path:\n",
        "            print(\"Goal of is not possible !\" + self.goal)\n",
        "        return self.path\n",
        "\n",
        "# Calling all the existing stuff\n",
        "if __name__ == \"__main__\":\n",
        "    start1 = \"secure\"\n",
        "    goal1 = \"rescue\"\n",
        "    print(\"Starting....\")\n",
        "    a = A_Star_Solver(start1, goal1)\n",
        "    a.Solve()\n",
        "    for i in range(len(a.path)):\n",
        "        print(\"{0}){1}\".format(i, a.path[i]))\n"
      ],
      "metadata": {
        "colab": {
          "base_uri": "https://localhost:8080/"
        },
        "id": "YPePh-8UtfM5",
        "outputId": "45947384-d9f6-4425-f232-930d804cbfce"
      },
      "execution_count": null,
      "outputs": [
        {
          "output_type": "stream",
          "name": "stdout",
          "text": [
            "Starting....\n",
            "0)secure\n",
            "1)secure\n",
            "2)secrue\n",
            "3)sercue\n",
            "4)srecue\n",
            "5)rsecue\n",
            "6)rescue\n"
          ]
        }
      ]
    },
    {
      "cell_type": "markdown",
      "source": [
        "# 2\n"
      ],
      "metadata": {
        "id": "DhJKTCSCtr6q"
      }
    },
    {
      "cell_type": "code",
      "source": [
        "from sklearn.metrics.pairwise import cosine_similarity\n",
        "\n",
        "# Sample content embeddings (already trained)\n",
        "content_embeddings = {\n",
        "    'space exploration': [0.8, -0.3, 0.6],\n",
        "    'astronomy': [0.7, -0.2, 0.8],\n",
        "    'rocket technology': [0.6, -0.1, 0.7]\n",
        "}\n",
        "\n",
        "user_interests = ['space exploration', 'cosmic discoveries']\n",
        "user_embedding = [0.75, -0.25, 0.7] # Generated using the same embedding method\n",
        "\n",
        "related_content = []\n",
        "for content, embedding in content_embeddings.items():\n",
        "    similarity = cosine_similarity([user_embedding], [embedding])[0][0]\n",
        "    related_content.append((content, similarity))\n",
        "\n",
        "related_content.sort(key=lambda x: x[1], reverse=True)\n",
        "\n",
        "suggested_content = [content for content, _ in related_content]\n",
        "\n",
        "print(\"Suggested content:\", suggested_content)\n"
      ],
      "metadata": {
        "colab": {
          "base_uri": "https://localhost:8080/"
        },
        "id": "51Lpj6Fetvlh",
        "outputId": "b4058790-3d96-4520-c099-e594874edc00"
      },
      "execution_count": null,
      "outputs": [
        {
          "output_type": "stream",
          "name": "stdout",
          "text": [
            "Suggested content: ['astronomy', 'space exploration', 'rocket technology']\n"
          ]
        }
      ]
    },
    {
      "cell_type": "markdown",
      "source": [
        "# 3\n"
      ],
      "metadata": {
        "id": "KrbVARv4t4uJ"
      }
    },
    {
      "cell_type": "code",
      "source": [
        "graph = {\n",
        "    'A': ['B', 'C'],\n",
        "    'B': ['D', 'E'],\n",
        "    'C': ['F'],\n",
        "    'D': [],\n",
        "    'E': ['F'],\n",
        "    'F': []\n",
        "}\n",
        "\n",
        "visited = []\n",
        "queue = []\n",
        "\n",
        "def bfs(visited, graph, node):\n",
        "    visited.append(node)\n",
        "    queue.append(node)\n",
        "\n",
        "    while queue:\n",
        "        s = queue.pop(0)\n",
        "        print(s, end=\" \")\n",
        "\n",
        "        for neighbor in graph[s]:\n",
        "            if neighbor not in visited:\n",
        "                visited.append(neighbor)\n",
        "                queue.append(neighbor)\n",
        "\n",
        "# Driver Code\n",
        "bfs(visited, graph, 'A')\n"
      ],
      "metadata": {
        "colab": {
          "base_uri": "https://localhost:8080/"
        },
        "id": "r0w7dyy5t6-x",
        "outputId": "54722b9e-9845-4119-bd19-b9ba02930d59"
      },
      "execution_count": null,
      "outputs": [
        {
          "output_type": "stream",
          "name": "stdout",
          "text": [
            "A B C D E F "
          ]
        }
      ]
    },
    {
      "cell_type": "markdown",
      "source": [
        "# 4\n"
      ],
      "metadata": {
        "id": "pu0TWRzwuCVa"
      }
    },
    {
      "cell_type": "code",
      "source": [
        "graph = {\n",
        "    'A': ['B', 'C'],\n",
        "    'B': ['D', 'E'],\n",
        "    'C': ['F'],\n",
        "    'D': [],\n",
        "    'E': ['F'],\n",
        "    'F': []\n",
        "}\n",
        "\n",
        "visited = set()\n",
        "\n",
        "def dfs(visited, graph, node):\n",
        "    if node not in visited:\n",
        "        print(node)\n",
        "        visited.add(node)\n",
        "        for neighbor in graph[node]:\n",
        "            dfs(visited, graph, neighbor)\n",
        "\n",
        "# Driver Code\n",
        "dfs(visited, graph, 'A')\n"
      ],
      "metadata": {
        "colab": {
          "base_uri": "https://localhost:8080/"
        },
        "id": "dn4pkG1fuFZi",
        "outputId": "943bfe19-6d57-4257-ec9b-9f47cd270fc0"
      },
      "execution_count": null,
      "outputs": [
        {
          "output_type": "stream",
          "name": "stdout",
          "text": [
            "A\n",
            "B\n",
            "D\n",
            "E\n",
            "F\n",
            "C\n"
          ]
        }
      ]
    },
    {
      "cell_type": "markdown",
      "source": [
        "# 5\n"
      ],
      "metadata": {
        "id": "xKDB1LvYuOf6"
      }
    },
    {
      "cell_type": "code",
      "source": [
        "import numpy as np\n",
        "\n",
        "def nearest_neighbor(graph, start):\n",
        "    num_cities = len(graph)\n",
        "    visited = [False] * num_cities\n",
        "    path = [start]\n",
        "    visited[start] = True\n",
        "\n",
        "    for _ in range(num_cities - 1):\n",
        "        current_city = path[-1]\n",
        "        nearest_city = None\n",
        "        nearest_distance = float('inf')\n",
        "        for city in range(num_cities):\n",
        "            if not visited[city] and graph[current_city][city] < nearest_distance:\n",
        "                nearest_city = city\n",
        "                nearest_distance = graph[current_city][city]\n",
        "        path.append(nearest_city)\n",
        "        visited[nearest_city] = True\n",
        "\n",
        "    path.append(start) # Return to the start city\n",
        "    return path\n",
        "\n",
        "graph = np.array([\n",
        "    [0, 10, 15, 20],\n",
        "    [10, 0, 35, 25],\n",
        "    [15, 35, 0, 30],\n",
        "    [20, 25, 30, 0]\n",
        "])\n",
        "start_city = 0\n",
        "shortest_path = nearest_neighbor(graph, start_city)\n",
        "print(\"Shortest path:\", shortest_path)\n"
      ],
      "metadata": {
        "colab": {
          "base_uri": "https://localhost:8080/"
        },
        "id": "9vHXxF0QuQWa",
        "outputId": "cf3ef78f-7daa-4b1f-fe44-c0b0544a0b03"
      },
      "execution_count": null,
      "outputs": [
        {
          "output_type": "stream",
          "name": "stdout",
          "text": [
            "Shortest path: [0, 1, 3, 2, 0]\n"
          ]
        }
      ]
    },
    {
      "cell_type": "markdown",
      "source": [
        "# 6"
      ],
      "metadata": {
        "id": "FbtjXJ1yuYuZ"
      }
    },
    {
      "cell_type": "code",
      "source": [
        "knowledge_base = []\n",
        "\n",
        "def is_parent(x, y):\n",
        "    \"\"\"Predicate to check if x is the parent of y.\"\"\"\n",
        "    return (x, \"parent\", y) in knowledge_base\n",
        "\n",
        "def is_grandparent(x, y):\n",
        "    \"\"\"Predicate to check if x is the grandparent of y.\"\"\"\n",
        "    for z in knowledge_base:\n",
        "        if z[1] == \"parent\" and z[2] == y:\n",
        "            return is_parent(x, z[0])\n",
        "    return False\n",
        "\n",
        "def add_knowledge(knowledge, fact):\n",
        "    \"\"\"Add a new fact to the knowledge base.\"\"\"\n",
        "    if fact not in knowledge:\n",
        "        knowledge.append(fact)\n",
        "\n",
        "def infer_grandparent(knowledge, x, y):\n",
        "    \"\"\"Infer if x is the grandparent of y.\"\"\"\n",
        "    for z in knowledge:\n",
        "        if z[1] == \"parent\" and z[2] == y:\n",
        "            if is_parent(x, z[0]):\n",
        "                return True\n",
        "    return False\n",
        "\n",
        "add_knowledge(knowledge_base, (\"John\", \"parent\", \"Alice\"))\n",
        "add_knowledge(knowledge_base, (\"Alice\", \"parent\", \"Bob\"))\n",
        "\n",
        "print(is_parent(\"John\", \"Alice\"))  # True\n",
        "print(infer_grandparent(knowledge_base, \"John\", \"Bob\"))  # True\n"
      ],
      "metadata": {
        "colab": {
          "base_uri": "https://localhost:8080/"
        },
        "id": "_Ms5Dk8_uauy",
        "outputId": "6d978db2-3a3c-43cb-ce0c-7ff9ef5c0dce"
      },
      "execution_count": null,
      "outputs": [
        {
          "output_type": "stream",
          "name": "stdout",
          "text": [
            "True\n",
            "True\n"
          ]
        }
      ]
    },
    {
      "cell_type": "markdown",
      "source": [
        "# 7\n"
      ],
      "metadata": {
        "id": "BLWAq6ZXulkK"
      }
    },
    {
      "cell_type": "code",
      "source": [
        "import numpy as np\n",
        "\n",
        "# Define triangular membership function\n",
        "def trimf(x, params):\n",
        "    a, b, c = params\n",
        "    epsilon = 1e-10 # Small value to prevent division by zero\n",
        "    return np.maximum(0, np.minimum((x - a) / max((b - a), epsilon), (c - x) / max((c - b), epsilon)))\n",
        "\n",
        "# Define input variables\n",
        "temperature_values = np.arange(0, 101, 1)\n",
        "humidity_values = np.arange(0, 101, 1)\n",
        "\n",
        "# Define membership functions for input variables\n",
        "temperature_low = trimf(temperature_values, [0, 0, 50])\n",
        "temperature_medium = trimf(temperature_values, [0, 50, 100])\n",
        "temperature_high = trimf(temperature_values, [50, 100, 100])\n",
        "humidity_low = trimf(humidity_values, [0, 0, 50])\n",
        "humidity_medium = trimf(humidity_values, [0, 50, 100])\n",
        "humidity_high = trimf(humidity_values, [50, 100, 100])\n",
        "\n",
        "# Define output variable membership functions\n",
        "fan_speed_values = np.arange(0, 101, 1)\n",
        "fan_speed_low = trimf(fan_speed_values, [0, 0, 50])\n",
        "fan_speed_medium = trimf(fan_speed_values, [0, 50, 100])\n",
        "fan_speed_high = trimf(fan_speed_values, [50, 100, 100])\n",
        "\n",
        "# Define rules\n",
        "def fuzzy_rule(temperature, humidity):\n",
        "    if temperature == 'low' or humidity == 'low':\n",
        "        return 'low'\n",
        "    elif temperature == 'medium' and humidity == 'medium':\n",
        "        return 'medium'\n",
        "    elif temperature == 'high' or humidity == 'high':\n",
        "        return 'high'\n",
        "\n",
        "# Input values\n",
        "input_temperature = 75\n",
        "input_humidity = 40\n",
        "\n",
        "# Apply fuzzy rules\n",
        "output_fan_speed = fuzzy_rule(\n",
        "    'low' if input_temperature <= 50 else ('medium' if input_temperature <= 100 else 'high'),\n",
        "    'low' if input_humidity <= 50 else ('medium' if input_humidity <= 100 else 'high')\n",
        ")\n",
        "\n",
        "# Output\n",
        "print(f'Fan speed: {output_fan_speed}')\n"
      ],
      "metadata": {
        "colab": {
          "base_uri": "https://localhost:8080/"
        },
        "id": "6QDbR9exunMC",
        "outputId": "971260b7-6896-4ceb-ee42-c112cf49ef59"
      },
      "execution_count": null,
      "outputs": [
        {
          "output_type": "stream",
          "name": "stdout",
          "text": [
            "Fan speed: low\n"
          ]
        }
      ]
    },
    {
      "cell_type": "markdown",
      "source": [
        "# 8\n"
      ],
      "metadata": {
        "id": "ThocURRk1CZl"
      }
    },
    {
      "cell_type": "code",
      "source": [
        "import random\n",
        "\n",
        "# Goal state for the 8-puzzle problem\n",
        "goal_state = [\n",
        "    [1, 2, 3],\n",
        "    [4, 5, 6],\n",
        "    [7, 8, 0]\n",
        "]\n",
        "\n",
        "# Helper function to find the position of the blank (0) tile\n",
        "def find_blank(state):\n",
        "    for i in range(len(state)):\n",
        "        for j in range(len(state[i])):\n",
        "            if state[i][j] == 0:\n",
        "                return i, j\n",
        "\n",
        "# Helper function to calculate the heuristic (Manhattan distance)\n",
        "def heuristic(state):\n",
        "    distance = 0\n",
        "    for i in range(3):\n",
        "        for j in range(3):\n",
        "            if state[i][j] != 0:\n",
        "                x, y = divmod(state[i][j] - 1, 3)\n",
        "                distance += abs(x - i) + abs(y - j)\n",
        "    return distance\n",
        "\n",
        "# Helper function to generate neighboring states\n",
        "def get_neighbors(state):\n",
        "    neighbors = []\n",
        "    blank_row, blank_col = find_blank(state)\n",
        "    directions = [(-1, 0), (1, 0), (0, -1), (0, 1)]\n",
        "\n",
        "    for d in directions:\n",
        "        new_row, new_col = blank_row + d[0], blank_col + d[1]\n",
        "        if 0 <= new_row < 3 and 0 <= new_col < 3:\n",
        "            new_state = [row[:] for row in state]\n",
        "            new_state[blank_row][blank_col], new_state[new_row][new_col] = new_state[new_row][new_col], new_state[blank_row][blank_col]\n",
        "            neighbors.append(new_state)\n",
        "\n",
        "    return neighbors\n",
        "\n",
        "# Hill Climbing algorithm\n",
        "def hill_climbing(initial_state, max_iterations=1000):\n",
        "    current_state = initial_state\n",
        "    current_heuristic = heuristic(current_state)\n",
        "\n",
        "    for iteration in range(max_iterations):\n",
        "        neighbors = get_neighbors(current_state)\n",
        "        next_state = min(neighbors, key=heuristic)\n",
        "        next_heuristic = heuristic(next_state)\n",
        "\n",
        "        if next_heuristic < current_heuristic:\n",
        "            current_state = next_state\n",
        "            current_heuristic = next_heuristic\n",
        "        else:\n",
        "            break\n",
        "\n",
        "        print(f\"Iteration {iteration + 1}: Current Heuristic = {current_heuristic}\")\n",
        "\n",
        "        if current_state == goal_state:\n",
        "            print(\"Reached the goal state!\")\n",
        "            break\n",
        "\n",
        "    return current_state\n",
        "\n",
        "# Example usage\n",
        "initial_state = [\n",
        "    [1, 2, 3],\n",
        "    [4, 5, 6],\n",
        "    [0, 7, 8]\n",
        "]\n",
        "\n",
        "result_state = hill_climbing(initial_state)\n",
        "\n",
        "print(\"Resulting State:\")\n",
        "for row in result_state:\n",
        "    print(row)\n"
      ],
      "metadata": {
        "colab": {
          "base_uri": "https://localhost:8080/"
        },
        "id": "hdijt_g01FjA",
        "outputId": "bb038eb8-e913-4aeb-b0d4-297312d1c8be"
      },
      "execution_count": null,
      "outputs": [
        {
          "output_type": "stream",
          "name": "stdout",
          "text": [
            "Iteration 1: Current Heuristic = 1\n",
            "Iteration 2: Current Heuristic = 0\n",
            "Reached the goal state!\n",
            "Resulting State:\n",
            "[1, 2, 3]\n",
            "[4, 5, 6]\n",
            "[7, 8, 0]\n"
          ]
        }
      ]
    },
    {
      "cell_type": "markdown",
      "source": [
        "#9"
      ],
      "metadata": {
        "id": "_Le9TeGQ3Jqo"
      }
    },
    {
      "cell_type": "code",
      "source": [
        "import random\n",
        "\n",
        "def generate_random_state(size):\n",
        "    return [random.randint(0, size - 1) for _ in range(size)]\n",
        "\n",
        "def compute_heuristic(state):\n",
        "    conflicts = 0\n",
        "    size = len(state)\n",
        "    for i in range(size):\n",
        "        for j in range(i + 1, size):\n",
        "            if state[i] == state[j] or abs(state[i] - state[j]) == abs(i - j):\n",
        "                conflicts += 1\n",
        "    return conflicts\n",
        "\n",
        "def get_neighbors(state):\n",
        "    neighbors = []\n",
        "    size = len(state)\n",
        "    for col in range(size):\n",
        "        for row in range(size):\n",
        "            if row != state[col]:\n",
        "                neighbor = list(state)\n",
        "                neighbor[col] = row\n",
        "                neighbors.append(neighbor)\n",
        "    return neighbors\n",
        "\n",
        "def hill_climbing(initial_state, max_iterations=1000):\n",
        "    current_state = initial_state\n",
        "    current_heuristic = compute_heuristic(current_state)\n",
        "\n",
        "    for iteration in range(max_iterations):\n",
        "        neighbors = get_neighbors(current_state)\n",
        "        next_state = min(neighbors, key=compute_heuristic)\n",
        "        next_heuristic = compute_heuristic(next_state)\n",
        "\n",
        "        if next_heuristic < current_heuristic:\n",
        "            current_state = next_state\n",
        "            current_heuristic = next_heuristic\n",
        "        else:\n",
        "            break\n",
        "\n",
        "        if current_heuristic == 0:\n",
        "            break\n",
        "\n",
        "    return current_state, current_heuristic\n",
        "\n",
        "def random_restart_hill_climbing(size, max_restarts=100, max_iterations=1000):\n",
        "    for restart in range(max_restarts):\n",
        "        initial_state = generate_random_state(size)\n",
        "        solution_state, solution_heuristic = hill_climbing(initial_state, max_iterations)\n",
        "\n",
        "        if solution_heuristic == 0:\n",
        "            return solution_state\n",
        "\n",
        "    return None\n",
        "\n",
        "# Example usage for 4-Queens\n",
        "size = 4\n",
        "solution = random_restart_hill_climbing(size)\n",
        "\n",
        "if solution:\n",
        "    print(\"Solution found:\")\n",
        "    print(solution)\n",
        "else:\n",
        "    print(\"No solution found\")\n",
        "\n",
        "# To print the board\n",
        "def print_board(state):\n",
        "    size = len(state)\n",
        "    for row in range(size):\n",
        "        line = \"\"\n",
        "        for col in range(size):\n",
        "            if state[col] == row:\n",
        "                line += \"Q \"\n",
        "            else:\n",
        "                line += \". \"\n",
        "        print(line)\n",
        "\n",
        "if solution:\n",
        "    print_board(solution)\n"
      ],
      "metadata": {
        "colab": {
          "base_uri": "https://localhost:8080/"
        },
        "id": "-kmwbzH23MGc",
        "outputId": "9d4c7763-31cf-4f1f-ec25-aad57f4f9a41"
      },
      "execution_count": null,
      "outputs": [
        {
          "output_type": "stream",
          "name": "stdout",
          "text": [
            "Solution found:\n",
            "[1, 3, 0, 2]\n",
            ". . Q . \n",
            "Q . . . \n",
            ". . . Q \n",
            ". Q . . \n"
          ]
        }
      ]
    },
    {
      "cell_type": "markdown",
      "source": [
        "#10\n"
      ],
      "metadata": {
        "id": "d9y1_zlL3ds5"
      }
    },
    {
      "cell_type": "code",
      "source": [
        "import nltk\n",
        "from nltk.chat.util import Chat, reflections\n",
        "\n",
        "# Sample pairs of input patterns and responses\n",
        "pairs = [\n",
        "    [\n",
        "        r\"my name is (.*)\",\n",
        "        [\"Hello %1, How are you today?\",]\n",
        "    ],\n",
        "    [\n",
        "        r\"hi|hey|hello\",\n",
        "        [\"Hello\", \"Hey there\",]\n",
        "    ],\n",
        "    [\n",
        "        r\"what is your name?\",\n",
        "        [\"I am a bot created by ChatGPT. You can call me Chatbot.\",]\n",
        "    ],\n",
        "    [\n",
        "        r\"how are you?\",\n",
        "        [\"I'm doing good\\nHow about you?\",]\n",
        "    ],\n",
        "    [\n",
        "        r\"sorry (.*)\",\n",
        "        [\"It's alright\", \"It's OK, no problem.\",]\n",
        "    ],\n",
        "    [\n",
        "        r\"I am fine\",\n",
        "        [\"Great to hear that!\", \"How can I assist you today?\",]\n",
        "    ],\n",
        "    [\n",
        "        r\"quit\",\n",
        "        [\"Bye for now. Take care!\",]\n",
        "    ],\n",
        "]\n",
        "\n",
        "# Create Chat instance with pairs and reflections\n",
        "chat = Chat(pairs, reflections)\n",
        "\n",
        "# Start conversation\n",
        "def chatbot():\n",
        "    print(\"Hi, I'm the Chatbot. Type 'quit' to exit.\")\n",
        "    chat.converse()\n",
        "\n",
        "if __name__ == \"__main__\":\n",
        "    chatbot()\n"
      ],
      "metadata": {
        "colab": {
          "base_uri": "https://localhost:8080/"
        },
        "id": "6Xc5geb03gvp",
        "outputId": "9deecf39-92b7-4e87-e14c-bf21d0e3dab6"
      },
      "execution_count": null,
      "outputs": [
        {
          "output_type": "stream",
          "name": "stdout",
          "text": [
            "Hi, I'm the Chatbot. Type 'quit' to exit.\n",
            ">quit\n",
            "Bye for now. Take care!\n"
          ]
        }
      ]
    },
    {
      "cell_type": "markdown",
      "source": [
        "#11\n"
      ],
      "metadata": {
        "id": "z2pkPKr85p8a"
      }
    },
    {
      "cell_type": "code",
      "source": [
        "def forward_chaining(rules, facts):\n",
        "    inferred = set(facts)  # Initially inferred facts\n",
        "    while True:\n",
        "        new_inferences = set()\n",
        "        for rule in rules:\n",
        "            antecedent, consequent = rule\n",
        "            if antecedent.issubset(inferred):\n",
        "                new_inferences.add(consequent)\n",
        "        if new_inferences.issubset(inferred):\n",
        "            break\n",
        "        inferred.update(new_inferences)\n",
        "    return inferred\n",
        "\n",
        "# Example usage\n",
        "rules = [\n",
        "    ({\"A\", \"B\"}, \"C\"),\n",
        "    ({\"C\", \"D\"}, \"E\"),\n",
        "    ({\"E\"}, \"F\")\n",
        "]\n",
        "\n",
        "facts = {\"A\", \"B\", \"D\"}\n",
        "\n",
        "inferred_facts = forward_chaining(rules, facts)\n",
        "print(\"Inferred Facts:\", inferred_facts)\n"
      ],
      "metadata": {
        "colab": {
          "base_uri": "https://localhost:8080/"
        },
        "id": "TnphakWy5sEq",
        "outputId": "8837fcb3-7a94-4cd2-f192-0f94e6687c4a"
      },
      "execution_count": 6,
      "outputs": [
        {
          "output_type": "stream",
          "name": "stdout",
          "text": [
            "Inferred Facts: {'C', 'D', 'F', 'E', 'A', 'B'}\n"
          ]
        }
      ]
    },
    {
      "cell_type": "code",
      "source": [
        "def backward_chaining(rules, facts, query):\n",
        "    def bc_recursive(goal, known_facts):\n",
        "        if goal in known_facts:\n",
        "            return True\n",
        "        for antecedent, consequent in rules:\n",
        "            if consequent == goal:\n",
        "                if all(bc_recursive(subgoal, known_facts) for subgoal in antecedent):\n",
        "                    return True\n",
        "        return False\n",
        "\n",
        "    return bc_recursive(query, facts)\n",
        "\n",
        "# Example usage\n",
        "rules = [\n",
        "    ({\"A\", \"B\"}, \"C\"),\n",
        "    ({\"C\", \"D\"}, \"E\"),\n",
        "    ({\"E\"}, \"F\")\n",
        "]\n",
        "\n",
        "facts = {\"A\", \"B\", \"D\"}\n",
        "query = \"F\"\n",
        "\n",
        "is_inferred = backward_chaining(rules, facts, query)\n",
        "print(f\"Can we infer '{query}'? {'Yes' if is_inferred else 'No'}\")"
      ],
      "metadata": {
        "colab": {
          "base_uri": "https://localhost:8080/"
        },
        "id": "O8PCneeo5wb3",
        "outputId": "37d23c90-5ddc-4dc9-bdd9-4361c4aae070"
      },
      "execution_count": 7,
      "outputs": [
        {
          "output_type": "stream",
          "name": "stdout",
          "text": [
            "Can we infer 'F'? Yes\n"
          ]
        }
      ]
    }
  ]
}